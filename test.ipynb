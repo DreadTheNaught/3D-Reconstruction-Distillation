{
 "cells": [
  {
   "cell_type": "code",
   "execution_count": 2,
   "metadata": {},
   "outputs": [
    {
     "name": "stderr",
     "output_type": "stream",
     "text": [
      "Downloading: \"https://download.pytorch.org/models/mobilenet_v3_large-5c1a4163.pth\" to C:\\Users\\prana/.cache\\torch\\hub\\checkpoints\\mobilenet_v3_large-5c1a4163.pth\n",
      "100%|██████████| 21.1M/21.1M [00:09<00:00, 2.28MB/s]\n"
     ]
    }
   ],
   "source": [
    "import torchvision.models as models\n",
    "\n",
    "\n",
    "model = models.mobilenet_v3_large(\n",
    "    weights=models.MobileNet_V3_Large_Weights.DEFAULT, pretrained=True)"
   ]
  },
  {
   "cell_type": "code",
   "execution_count": 7,
   "metadata": {},
   "outputs": [],
   "source": [
    "import open3d as o3d\n",
    "import numpy as np\n",
    "import torch\n",
    "\n",
    "\n",
    "def load_and_display_point_cloud(file_path):\n",
    "    # Load PyTorch tensor\n",
    "    points = torch.load(file_path).cpu().detach().numpy()\n",
    "\n",
    "    # Ensure it's in (N, 3) format\n",
    "    if points.shape[1] != 3:\n",
    "        raise ValueError(\"Point cloud tensor must have shape (N, 3)\")\n",
    "\n",
    "    # Create Open3D point cloud\n",
    "    pcd = o3d.geometry.PointCloud()\n",
    "    pcd.points = o3d.utility.Vector3dVector(points)\n",
    "\n",
    "    # Visualize\n",
    "    o3d.visualization.draw_geometries([pcd])\n",
    "\n",
    "\n",
    "load_and_display_point_cloud(\n",
    "    r\"data\\12scenes_apt1_kitchen\\train\\pts3d\\frame-000360.pt\")"
   ]
  }
 ],
 "metadata": {
  "kernelspec": {
   "display_name": ".venv",
   "language": "python",
   "name": "python3"
  },
  "language_info": {
   "codemirror_mode": {
    "name": "ipython",
    "version": 3
   },
   "file_extension": ".py",
   "mimetype": "text/x-python",
   "name": "python",
   "nbconvert_exporter": "python",
   "pygments_lexer": "ipython3",
   "version": "3.11.8"
  }
 },
 "nbformat": 4,
 "nbformat_minor": 2
}
